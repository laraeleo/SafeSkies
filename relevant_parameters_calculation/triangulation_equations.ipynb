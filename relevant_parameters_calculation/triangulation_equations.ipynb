{
  "cells": [
    {
      "cell_type": "code",
      "execution_count": null,
      "metadata": {
        "colab": {
          "base_uri": "https://localhost:8080/"
        },
        "id": "m9RYjlggCCtp",
        "outputId": "389be399-91a3-49e9-d8ca-f40a3b5b0393"
      },
      "outputs": [
        {
          "name": "stdout",
          "output_type": "stream",
          "text": [
            "B = (12.679491924311227, 7.320508075688772, 18.848462460965862)\n",
            "C1 Distance: 23.866794738450686\n",
            "C2 Distance: 21.504516133010025\n"
          ]
        }
      ],
      "source": [
        "# Calculate ballon position on frame 1\n",
        "\n",
        "import numpy as np\n",
        "\n",
        "alpha = 30\n",
        "beta = 45\n",
        "gamma = 60\n",
        "delta = 50\n",
        "\n",
        "d = 20\n",
        "c1 = [0, 0, 0]\n",
        "c2 = [d, 0, 0]\n",
        "\n",
        "alpha_rad = np.radians(alpha)\n",
        "beta_rad = np.radians(beta)\n",
        "gamma_rad = np.radians(gamma)\n",
        "delta_rad = np.radians(delta)\n",
        "\n",
        "n = d * np.sin(beta_rad) / np.sin(alpha_rad + beta_rad)\n",
        "m = d * np.sin(alpha_rad) / np.sin(alpha_rad + beta_rad)\n",
        "\n",
        "x1 = n * np.cos(alpha_rad)\n",
        "y1 = n * np.sin(alpha_rad)\n",
        "z1 = n * np.tan(gamma_rad)\n",
        "\n",
        "x2 = d - (m * np.cos(beta_rad))\n",
        "y2 = m * np.sin(beta_rad)\n",
        "z2 = m * np.tan(delta_rad)\n",
        "\n",
        "xi = (x1 + x2) / 2\n",
        "yi = (y1 + y2) / 2\n",
        "zi = (z1 + z2) / 2\n",
        "\n",
        "Bi = np.array([xi, yi, zi])\n",
        "\n",
        "dist_c1 = np.linalg.norm(Bi - c1)\n",
        "dist_c2 = np.linalg.norm(Bi - c2)\n",
        "\n",
        "print(f\"B = ({xi}, {yi}, {zi})\")\n",
        "print(f\"C1 Distance: {dist_c1}\")\n",
        "print(f\"C2 Distance: {dist_c2}\")"
      ]
    },
    {
      "cell_type": "code",
      "execution_count": null,
      "metadata": {
        "colab": {
          "base_uri": "https://localhost:8080/"
        },
        "id": "Pyxa90T-JaHr",
        "outputId": "0e49ece2-0793-446c-d9b7-f711111dca04"
      },
      "outputs": [
        {
          "name": "stdout",
          "output_type": "stream",
          "text": [
            "B = (41.317591116653475, 49.2403876506104, 26.13153457379174)\n",
            "C1 Distance: 69.38743554020873\n",
            "C2 Distance: 56.416815748332276\n"
          ]
        }
      ],
      "source": [
        "# Calculate balloon position on frame 2\n",
        "\n",
        "import numpy as np\n",
        "\n",
        "alpha = 50\n",
        "beta = 80\n",
        "gamma = 20\n",
        "delta = 30\n",
        "\n",
        "d = 50\n",
        "c1 = [0, 0, 0]\n",
        "c2 = [d, 0, 0]\n",
        "\n",
        "alpha_rad = np.radians(alpha)\n",
        "beta_rad = np.radians(beta)\n",
        "gamma_rad = np.radians(gamma)\n",
        "delta_rad = np.radians(delta)\n",
        "\n",
        "n = d * np.sin(beta_rad) / np.sin(alpha_rad + beta_rad)\n",
        "m = d * np.sin(alpha_rad) / np.sin(alpha_rad + beta_rad)\n",
        "\n",
        "x1 = n * np.cos(alpha_rad)\n",
        "y1 = n * np.sin(alpha_rad)\n",
        "z1 = n * np.tan(gamma_rad)\n",
        "\n",
        "x2 = d - (m * np.cos(beta_rad))\n",
        "y2 = m * np.sin(beta_rad)\n",
        "z2 = m * np.tan(delta_rad)\n",
        "\n",
        "xf = (x1 + x2) / 2\n",
        "yf = (y1 + y2) / 2\n",
        "zf = (z1 + z2) / 2\n",
        "\n",
        "Bf = np.array([xf, yf, zf])\n",
        "\n",
        "dist_c1 = np.linalg.norm(Bf - c1)\n",
        "dist_c2 = np.linalg.norm(Bf - c2)\n",
        "\n",
        "print(f\"B = ({xf}, {yf}, {zf})\")\n",
        "print(f\"C1 Distance: {dist_c1}\")\n",
        "print(f\"C2 Distance: {dist_c2}\")"
      ]
    },
    {
      "cell_type": "code",
      "execution_count": null,
      "metadata": {
        "colab": {
          "base_uri": "https://localhost:8080/"
        },
        "id": "LSipWzgWJ261",
        "outputId": "1101dbb5-9c6a-4f98-c368-1659e7524bf0"
      },
      "outputs": [
        {
          "name": "stdout",
          "output_type": "stream",
          "text": [
            "distance: 51.28801193580218\n",
            "velocity: 5.128801193580218\n"
          ]
        }
      ],
      "source": [
        "# Determine the distance traveled by the balloon and its velocity vector\n",
        "\n",
        "import numpy as np\n",
        "\n",
        "t = 10\n",
        "\n",
        "dist = np.linalg.norm(Bi - Bf)\n",
        "\n",
        "vel = dist / t\n",
        "\n",
        "print(f\"distance: {dist}\")\n",
        "print(f\"velocity: {vel}\")"
      ]
    }
  ],
  "metadata": {
    "colab": {
      "provenance": []
    },
    "kernelspec": {
      "display_name": "Python 3",
      "name": "python3"
    },
    "language_info": {
      "name": "python"
    }
  },
  "nbformat": 4,
  "nbformat_minor": 0
}
