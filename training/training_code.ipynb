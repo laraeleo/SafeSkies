{
  "nbformat": 4,
  "nbformat_minor": 0,
  "metadata": {
    "colab": {
      "provenance": [],
      "gpuType": "A100"
    },
    "kernelspec": {
      "name": "python3",
      "display_name": "Python 3"
    },
    "language_info": {
      "name": "python"
    },
    "accelerator": "GPU"
  },
  "cells": [
    {
      "cell_type": "code",
      "execution_count": null,
      "metadata": {
        "id": "rA5x8fA_I1mv"
      },
      "outputs": [],
      "source": [
        "# Configurações iniciais\n",
        "\n",
        "from google.colab import drive\n",
        "import locale\n",
        "import os\n",
        "\n",
        "locale.getpreferredencoding = lambda: 'UTF-8'\n",
        "\n",
        "drive.mount('/content/gdrive/', force_remount=True)"
      ]
    },
    {
      "cell_type": "code",
      "source": [
        "# Define a pasta onde o modelo será treinado\n",
        "\n",
        "ROOT_DIR = '/content/gdrive/MyDrive/Cientista/Research/2-YOLO/new_trainings/trainX/'"
      ],
      "metadata": {
        "id": "Jo2y9-PaI7Xd"
      },
      "execution_count": null,
      "outputs": []
    },
    {
      "cell_type": "code",
      "source": [
        "# Instala as bibliotecas necessárias\n",
        "\n",
        "!pip install ultralytics\n",
        "!pip install Pillow"
      ],
      "metadata": {
        "id": "JNOvtLxoI9CI"
      },
      "execution_count": null,
      "outputs": []
    },
    {
      "cell_type": "code",
      "source": [
        "# Cria e treina um modelo YOLO do zero\n",
        "\n",
        "import os\n",
        "from ultralytics import YOLO\n",
        "\n",
        "model = YOLO('yolov8s.yaml')\n",
        "\n",
        "results = model.train(data=os.path.join(ROOT_DIR, 'config.yaml'), epochs=300, patience=30, batch=64, augment=True)"
      ],
      "metadata": {
        "id": "oJvb358UJAK9"
      },
      "execution_count": null,
      "outputs": []
    },
    {
      "cell_type": "code",
      "source": [
        "# Salva o modelo e os resultados do treinamento\n",
        "\n",
        "import shutil\n",
        "\n",
        "shutil.copytree('/content/runs/detect/train', os.path.join(ROOT_DIR, 'training_results'))"
      ],
      "metadata": {
        "id": "bMrePgCCLMWZ"
      },
      "execution_count": null,
      "outputs": []
    },
    {
      "cell_type": "code",
      "source": [
        "# Salva os valores das principais métricas de treinamento\n",
        "\n",
        "filename = os.path.join(ROOT_DIR, 'training_results', 'metrics.txt')\n",
        "\n",
        "metrics = {\n",
        "  'Precision': results.results_dict.get('metrics/precision(B)'),\n",
        "  'Recall': results.results_dict.get('metrics/recall(B)'),\n",
        "  'mAP@0.5': results.results_dict.get('metrics/mAP50(B)'),\n",
        "  'mAP@[.5:.95]': results.results_dict.get('metrics/mAP50-95(B)'),\n",
        "  'Fitness': results.results_dict.get('fitness'),\n",
        "}\n",
        "\n",
        "with open(filename, 'w') as file:\n",
        "  for metric_name, value in metrics.items():\n",
        "    if value is None:\n",
        "      value = 'Not available'\n",
        "    file.write(f'{metric_name}: {value}\\n')"
      ],
      "metadata": {
        "id": "p1fM5cQAvpOz"
      },
      "execution_count": null,
      "outputs": []
    },
    {
      "cell_type": "code",
      "source": [
        "# Realiza os testes\n",
        "\n",
        "model = YOLO(os.path.join(ROOT_DIR, 'training_results', 'weights', 'best.pt'))\n",
        "\n",
        "test_results = model.val(data=os.path.join(ROOT_DIR, 'test_config.yaml'))"
      ],
      "metadata": {
        "id": "5CQSvLZ1KTIe"
      },
      "execution_count": null,
      "outputs": []
    },
    {
      "cell_type": "code",
      "source": [
        "# Salva os resultados dos testes\n",
        "\n",
        "shutil.copytree('/content/runs/detect/val', os.path.join(ROOT_DIR, 'test_results'))"
      ],
      "metadata": {
        "id": "TJaKqLU9v5Gd"
      },
      "execution_count": null,
      "outputs": []
    },
    {
      "cell_type": "code",
      "source": [
        "# Salva os valores das principais métricas de testes\n",
        "\n",
        "filename = os.path.join(ROOT_DIR, 'test_results', 'metrics.txt')\n",
        "\n",
        "metrics = {\n",
        "  'Precision': test_results.results_dict.get('metrics/precision(B)'),\n",
        "  'Recall': test_results.results_dict.get('metrics/recall(B)'),\n",
        "  'mAP@0.5': test_results.results_dict.get('metrics/mAP50(B)'),\n",
        "  'mAP@[.5:.95]': test_results.results_dict.get('metrics/mAP50-95(B)'),\n",
        "  'Fitness': test_results.results_dict.get('fitness'),\n",
        "}\n",
        "\n",
        "with open(filename, 'w') as file:\n",
        "  for metric_name, value in metrics.items():\n",
        "    if value is None:\n",
        "      value = 'Not available'\n",
        "    file.write(f'{metric_name}: {value}\\n')"
      ],
      "metadata": {
        "id": "8i5Fog4s7NCf"
      },
      "execution_count": null,
      "outputs": []
    },
    {
      "cell_type": "code",
      "source": [
        "# Salva as previsões realizadas pelo modelo na forma de imagens\n",
        "\n",
        "from PIL import Image\n",
        "\n",
        "VAL_IMAGES_DIR = os.path.join(ROOT_DIR, 'data', 'validation', 'images')\n",
        "image_list = os.listdir(VAL_IMAGES_DIR)\n",
        "\n",
        "VAL_PREDICTIONS_DIR = os.path.join(ROOT_DIR, 'training_results', 'predictions')\n",
        "os.makedirs(VAL_PREDICTIONS_DIR, exist_ok=True)\n",
        "\n",
        "for image in image_list:\n",
        "  predictions = model.predict([os.path.join(VAL_IMAGES_DIR, image)])\n",
        "  prediction = Image.fromarray(predictions[0].plot()[:,:,::-1])\n",
        "  prediction.save(os.path.join(VAL_PREDICTIONS_DIR, image))\n",
        "\n",
        "\n",
        "TEST_IMAGES_DIR = os.path.join(ROOT_DIR, 'data', 'test', 'images')\n",
        "image_list = os.listdir(TEST_IMAGES_DIR)\n",
        "\n",
        "TEST_PREDICTIONS_DIR = os.path.join(ROOT_DIR, 'test_results', 'predictions')\n",
        "os.makedirs(TEST_PREDICTIONS_DIR, exist_ok=True)\n",
        "\n",
        "for image in image_list:\n",
        "  predictions = model.predict([os.path.join(TEST_IMAGES_DIR, image)])\n",
        "  prediction = Image.fromarray(predictions[0].plot()[:,:,::-1])\n",
        "  prediction.save(os.path.join(TEST_PREDICTIONS_DIR, image))"
      ],
      "metadata": {
        "id": "9tI-PJbvyufN"
      },
      "execution_count": null,
      "outputs": []
    }
  ]
}