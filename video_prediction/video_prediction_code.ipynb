{
  "nbformat": 4,
  "nbformat_minor": 0,
  "metadata": {
    "colab": {
      "provenance": [],
      "gpuType": "A100"
    },
    "kernelspec": {
      "name": "python3",
      "display_name": "Python 3"
    },
    "language_info": {
      "name": "python"
    },
    "accelerator": "GPU"
  },
  "cells": [
    {
      "cell_type": "code",
      "execution_count": null,
      "metadata": {
        "id": "03tvxhoH-Y7L"
      },
      "outputs": [],
      "source": [
        "# Configurações iniciais\n",
        "\n",
        "from google.colab import drive\n",
        "import locale\n",
        "import os\n",
        "\n",
        "locale.getpreferredencoding = lambda: 'UTF-8'\n",
        "\n",
        "drive.mount('/content/gdrive/', force_remount=True)"
      ]
    },
    {
      "cell_type": "code",
      "source": [
        "# Define a pasta onde os testes serão realizados\n",
        "\n",
        "ROOT_DIR = '/content/gdrive/MyDrive/Cientista/Research/2-YOLO/new_trainings/trainX/'"
      ],
      "metadata": {
        "id": "-Vw5C7z3-e90"
      },
      "execution_count": null,
      "outputs": []
    },
    {
      "cell_type": "code",
      "source": [
        "# Instala as bibliotecas necessárias\n",
        "\n",
        "!pip install ultralytics\n",
        "!pip install opencv-python"
      ],
      "metadata": {
        "id": "AzEx5QsW-fX6"
      },
      "execution_count": null,
      "outputs": []
    },
    {
      "cell_type": "code",
      "source": [
        "# Define os arquivos de entrada e saída\n",
        "\n",
        "import os\n",
        "import cv2\n",
        "from ultralytics import YOLO\n",
        "\n",
        "\n",
        "VIDEOS_DIR = os.path.join(ROOT_DIR, 'videos_baloes')\n",
        "\n",
        "video_path = os.path.join(VIDEOS_DIR, 'video_balao_Y.mp4')\n",
        "video_path_out = os.path.join(VIDEOS_DIR, 'video_balao_Y_out.mp4')\n",
        "\n",
        "cap = cv2.VideoCapture(video_path)\n",
        "ret, frame = cap.read()\n",
        "H, W, _ = frame.shape\n",
        "out = cv2.VideoWriter(video_path_out, cv2.VideoWriter_fourcc(*'MP4V'), int(cap.get(cv2.CAP_PROP_FPS)), (W, H))\n",
        "\n",
        "model_path = os.path.join(ROOT_DIR, 'training_results', 'weights', 'best.pt')"
      ],
      "metadata": {
        "id": "smQ3_kjh-ptX"
      },
      "execution_count": null,
      "outputs": []
    },
    {
      "cell_type": "code",
      "source": [
        "# Usa o modelo para fazer as previsões\n",
        "\n",
        "model = YOLO(model_path)\n",
        "\n",
        "threshold = 0.5\n",
        "\n",
        "while ret:\n",
        "\n",
        "  results = model(frame)[0]\n",
        "\n",
        "  for result in results.boxes.data.tolist():\n",
        "    x1, y1, x2, y2, score, class_id = result\n",
        "\n",
        "    if score > threshold:\n",
        "      cv2.rectangle(frame, (int(x1), int(y1)), (int(x2), int(y2)), (0, 255, 0), 4)\n",
        "      cv2.putText(frame, results.names[int(class_id)].upper(), (int(x1), int(y1 - 10)),\n",
        "                  cv2.FONT_HERSHEY_SIMPLEX, 1.3, (0, 255, 0), 3, cv2.LINE_AA)\n",
        "\n",
        "  out.write(frame)\n",
        "  ret, frame = cap.read()\n",
        "\n",
        "cap.release()\n",
        "out.release()\n",
        "cv2.destroyAllWindows()"
      ],
      "metadata": {
        "id": "PfFRwcC4-uAq"
      },
      "execution_count": null,
      "outputs": []
    }
  ]
}