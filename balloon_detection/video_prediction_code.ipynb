{
 "cells": [
  {
   "cell_type": "markdown",
   "metadata": {},
   "source": [
    "The following code is based on the program 'predict_video' by Felipe Tambasco (computervisioneng), licensed under AGPL-3.0.\n",
    "\n",
    "Original source: https://github.com/computervisioneng/train-yolov8-custom-dataset-step-by-step-guide."
   ]
  },
  {
   "cell_type": "code",
   "execution_count": null,
   "metadata": {
    "id": "03tvxhoH-Y7L"
   },
   "outputs": [],
   "source": [
    "# Initial settings\n",
    "\n",
    "import locale\n",
    "from google.colab import drive\n",
    "\n",
    "locale.getpreferredencoding = lambda: 'UTF-8'\n",
    "\n",
    "drive.mount('/content/gdrive/', force_remount=True)"
   ]
  },
  {
   "cell_type": "code",
   "execution_count": null,
   "metadata": {
    "id": "-Vw5C7z3-e90"
   },
   "outputs": [],
   "source": [
    "# Define the folder where the tests will be conducted\n",
    "\n",
    "ROOT_DIR = '/content/gdrive/MyDrive/SafeSkies/balloon_detection/'"
   ]
  },
  {
   "cell_type": "code",
   "execution_count": null,
   "metadata": {
    "id": "AzEx5QsW-fX6"
   },
   "outputs": [],
   "source": [
    "# Install the necessary libraries\n",
    "\n",
    "!pip install ultralytics\n",
    "!pip install opencv-python"
   ]
  },
  {
   "cell_type": "code",
   "execution_count": null,
   "metadata": {
    "id": "smQ3_kjh-ptX"
   },
   "outputs": [],
   "source": [
    "# Define the input and output files\n",
    "\n",
    "import os\n",
    "import cv2\n",
    "from ultralytics import YOLO\n",
    "\n",
    "\n",
    "VIDEOS_DIR = os.path.join(ROOT_DIR, 'balloon_videos')\n",
    "\n",
    "video_path = os.path.join(VIDEOS_DIR, 'balloon_video_X.mp4')\n",
    "video_path_out = os.path.join(VIDEOS_DIR, 'balloon_video_X_out.mp4')\n",
    "\n",
    "cap = cv2.VideoCapture(video_path)\n",
    "ret, frame = cap.read()\n",
    "H, W, _ = frame.shape\n",
    "out = cv2.VideoWriter(video_path_out, cv2.VideoWriter_fourcc(*'MP4V'), int(cap.get(cv2.CAP_PROP_FPS)), (W, H))\n",
    "\n",
    "model_path = os.path.join(ROOT_DIR, 'training_results', 'weights', 'best.pt')"
   ]
  },
  {
   "cell_type": "code",
   "execution_count": null,
   "metadata": {
    "id": "PfFRwcC4-uAq"
   },
   "outputs": [],
   "source": [
    "# Use the model to make predictions on each frame of the video\n",
    "\n",
    "model = YOLO(model_path)\n",
    "\n",
    "threshold = 0.5\n",
    "\n",
    "while ret:\n",
    "\n",
    "  results = model(frame)[0]\n",
    "\n",
    "  for result in results.boxes.data.tolist():\n",
    "    x1, y1, x2, y2, score, class_id = result\n",
    "\n",
    "    if score > threshold:\n",
    "      cv2.rectangle(frame, (int(x1), int(y1)), (int(x2), int(y2)), (0, 255, 0), 4)\n",
    "      cv2.putText(frame, results.names[int(class_id)].upper(), (int(x1), int(y1 - 10)),\n",
    "                  cv2.FONT_HERSHEY_SIMPLEX, 1.3, (0, 255, 0), 3, cv2.LINE_AA)\n",
    "\n",
    "  out.write(frame)\n",
    "  ret, frame = cap.read()\n",
    "\n",
    "cap.release()\n",
    "out.release()\n",
    "cv2.destroyAllWindows()"
   ]
  }
 ],
 "metadata": {
  "accelerator": "GPU",
  "colab": {
   "gpuType": "A100",
   "provenance": []
  },
  "kernelspec": {
   "display_name": "Python 3",
   "name": "python3"
  },
  "language_info": {
   "name": "python"
  }
 },
 "nbformat": 4,
 "nbformat_minor": 0
}
