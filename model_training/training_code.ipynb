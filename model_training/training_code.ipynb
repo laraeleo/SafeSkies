{
 "cells": [
  {
   "cell_type": "code",
   "execution_count": null,
   "metadata": {
    "id": "rA5x8fA_I1mv"
   },
   "outputs": [],
   "source": [
    "# Initial settings\n",
    "\n",
    "import locale\n",
    "from google.colab import drive\n",
    "\n",
    "locale.getpreferredencoding = lambda: 'UTF-8'\n",
    "\n",
    "drive.mount('/content/gdrive/', force_remount=True)"
   ]
  },
  {
   "cell_type": "code",
   "execution_count": null,
   "metadata": {
    "id": "Jo2y9-PaI7Xd"
   },
   "outputs": [],
   "source": [
    "# Define the folder where the model will be trained\n",
    "\n",
    "ROOT_DIR = '/content/gdrive/MyDrive/SafeSkies/model_training/'"
   ]
  },
  {
   "cell_type": "code",
   "execution_count": null,
   "metadata": {
    "id": "JNOvtLxoI9CI"
   },
   "outputs": [],
   "source": [
    "# Install the necessary libraries\n",
    "\n",
    "!pip install ultralytics\n",
    "!pip install Pillow"
   ]
  },
  {
   "cell_type": "code",
   "execution_count": null,
   "metadata": {
    "id": "oJvb358UJAK9"
   },
   "outputs": [],
   "source": [
    "# Create and train a YOLO model from scratch\n",
    "\n",
    "import os\n",
    "from ultralytics import YOLO\n",
    "\n",
    "model = YOLO('yolov8s.yaml')\n",
    "\n",
    "results = model.train(data=os.path.join(ROOT_DIR, 'config.yaml'), epochs=300, patience=30, batch=64, augment=True)"
   ]
  },
  {
   "cell_type": "code",
   "execution_count": null,
   "metadata": {
    "id": "bMrePgCCLMWZ"
   },
   "outputs": [],
   "source": [
    "# Save the model and training results\n",
    "\n",
    "import shutil\n",
    "\n",
    "shutil.copytree('/content/runs/detect/train', os.path.join(ROOT_DIR, 'training_results'))"
   ]
  },
  {
   "cell_type": "code",
   "execution_count": null,
   "metadata": {
    "id": "p1fM5cQAvpOz"
   },
   "outputs": [],
   "source": [
    "# Save the values of key training metrics\n",
    "\n",
    "filename = os.path.join(ROOT_DIR, 'training_results', 'metrics.txt')\n",
    "\n",
    "metrics = {\n",
    "  'Precision': results.results_dict.get('metrics/precision(B)'),\n",
    "  'Recall': results.results_dict.get('metrics/recall(B)'),\n",
    "  'mAP@0.5': results.results_dict.get('metrics/mAP50(B)'),\n",
    "  'mAP@[.5:.95]': results.results_dict.get('metrics/mAP50-95(B)'),\n",
    "  'Fitness': results.results_dict.get('fitness'),\n",
    "}\n",
    "\n",
    "with open(filename, 'w') as file:\n",
    "  for metric_name, value in metrics.items():\n",
    "    if value is None:\n",
    "      value = 'Not available'\n",
    "    file.write(f'{metric_name}: {value}\\n')"
   ]
  },
  {
   "cell_type": "code",
   "execution_count": null,
   "metadata": {
    "id": "5CQSvLZ1KTIe"
   },
   "outputs": [],
   "source": [
    "# Perform testing\n",
    "\n",
    "model = YOLO(os.path.join(ROOT_DIR, 'training_results', 'weights', 'best.pt'))\n",
    "\n",
    "test_results = model.val(data=os.path.join(ROOT_DIR, 'test_config.yaml'))"
   ]
  },
  {
   "cell_type": "code",
   "execution_count": null,
   "metadata": {
    "id": "TJaKqLU9v5Gd"
   },
   "outputs": [],
   "source": [
    "# Save the test results\n",
    "\n",
    "shutil.copytree('/content/runs/detect/val', os.path.join(ROOT_DIR, 'test_results'))"
   ]
  },
  {
   "cell_type": "code",
   "execution_count": null,
   "metadata": {
    "id": "8i5Fog4s7NCf"
   },
   "outputs": [],
   "source": [
    "# Save the values of key test metrics\n",
    "\n",
    "filename = os.path.join(ROOT_DIR, 'test_results', 'metrics.txt')\n",
    "\n",
    "metrics = {\n",
    "  'Precision': test_results.results_dict.get('metrics/precision(B)'),\n",
    "  'Recall': test_results.results_dict.get('metrics/recall(B)'),\n",
    "  'mAP@0.5': test_results.results_dict.get('metrics/mAP50(B)'),\n",
    "  'mAP@[.5:.95]': test_results.results_dict.get('metrics/mAP50-95(B)'),\n",
    "  'Fitness': test_results.results_dict.get('fitness'),\n",
    "}\n",
    "\n",
    "with open(filename, 'w') as file:\n",
    "  for metric_name, value in metrics.items():\n",
    "    if value is None:\n",
    "      value = 'Not available'\n",
    "    file.write(f'{metric_name}: {value}\\n')"
   ]
  },
  {
   "cell_type": "code",
   "execution_count": null,
   "metadata": {
    "id": "9tI-PJbvyufN"
   },
   "outputs": [],
   "source": [
    "# Save the model's predictions as images\n",
    "\n",
    "from PIL import Image\n",
    "\n",
    "VAL_IMAGES_DIR = os.path.join(ROOT_DIR, 'data', 'validation', 'images')\n",
    "image_list = os.listdir(VAL_IMAGES_DIR)\n",
    "\n",
    "VAL_PREDICTIONS_DIR = os.path.join(ROOT_DIR, 'training_results', 'predictions')\n",
    "os.makedirs(VAL_PREDICTIONS_DIR, exist_ok=True)\n",
    "\n",
    "for image in image_list:\n",
    "  predictions = model.predict([os.path.join(VAL_IMAGES_DIR, image)])\n",
    "  prediction = Image.fromarray(predictions[0].plot()[:,:,::-1])\n",
    "  prediction.save(os.path.join(VAL_PREDICTIONS_DIR, image))\n",
    "\n",
    "\n",
    "TEST_IMAGES_DIR = os.path.join(ROOT_DIR, 'data', 'test', 'images')\n",
    "image_list = os.listdir(TEST_IMAGES_DIR)\n",
    "\n",
    "TEST_PREDICTIONS_DIR = os.path.join(ROOT_DIR, 'test_results', 'predictions')\n",
    "os.makedirs(TEST_PREDICTIONS_DIR, exist_ok=True)\n",
    "\n",
    "for image in image_list:\n",
    "  predictions = model.predict([os.path.join(TEST_IMAGES_DIR, image)])\n",
    "  prediction = Image.fromarray(predictions[0].plot()[:,:,::-1])\n",
    "  prediction.save(os.path.join(TEST_PREDICTIONS_DIR, image))"
   ]
  }
 ],
 "metadata": {
  "accelerator": "GPU",
  "colab": {
   "gpuType": "A100",
   "provenance": []
  },
  "kernelspec": {
   "display_name": "Python 3",
   "name": "python3"
  },
  "language_info": {
   "name": "python"
  }
 },
 "nbformat": 4,
 "nbformat_minor": 0
}
